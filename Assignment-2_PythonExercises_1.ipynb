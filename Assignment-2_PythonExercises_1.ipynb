{
  "nbformat": 4,
  "nbformat_minor": 0,
  "metadata": {
    "colab": {
      "provenance": [],
      "include_colab_link": true
    },
    "kernelspec": {
      "name": "python3",
      "display_name": "Python 3"
    },
    "language_info": {
      "name": "python"
    }
  },
  "cells": [
    {
      "cell_type": "markdown",
      "metadata": {
        "id": "view-in-github",
        "colab_type": "text"
      },
      "source": [
        "<a href=\"https://colab.research.google.com/github/Valerdzm/AI_Aug---Dec-2024/blob/main/Assignment-2_PythonExercises_1.ipynb\" target=\"_parent\"><img src=\"https://colab.research.google.com/assets/colab-badge.svg\" alt=\"Open In Colab\"/></a>"
      ]
    },
    {
      "cell_type": "markdown",
      "source": [
        "Text Analysis Tool: Create a Python program that reads a text file and performs various analyses on its content. The program should: Count the number of words, sentences, and paragraphs. Calculate the average word length. Identify the most common words and their frequencies."
      ],
      "metadata": {
        "id": "d0RQjTa559gk"
      }
    },
    {
      "cell_type": "code",
      "execution_count": 2,
      "metadata": {
        "id": "aT9PYi4x53QO",
        "colab": {
          "base_uri": "https://localhost:8080/"
        },
        "outputId": "9ae4090d-8df8-47c4-8558-bdc3bec72672"
      },
      "outputs": [
        {
          "output_type": "stream",
          "name": "stdout",
          "text": [
            "Number of words:  279\n",
            "Number of sentences:  14\n",
            "Number of paragraphs:  7\n",
            "Average word length: 5.99\n",
            "Most common words:\n",
            "  'and' --> 15 times in text\n",
            "  'AI' --> 10 times in text\n",
            "  'of' --> 9 times in text\n",
            "  'a' --> 7 times in text\n",
            "  'to' --> 6 times in text\n"
          ]
        }
      ],
      "source": [
        "def count_words(text):\n",
        "    words = text.split()\n",
        "    return len(words)\n",
        "\n",
        "def count_paragraphs(text):\n",
        "    paragraphs = text.split('\\n\\n')\n",
        "    return len(paragraphs) + 1\n",
        "\n",
        "def count_sentences(text):\n",
        "    sentences = text.split('.')\n",
        "    return len(sentences) - 1\n",
        "\n",
        "def calculate_average_word_length(text):\n",
        "    words = text.split()\n",
        "    total_word_length = 0\n",
        "    for word in words:\n",
        "        total_word_length += len(word)\n",
        "    average_word_length = total_word_length / count_words(text)\n",
        "    return average_word_length\n",
        "\n",
        "def word_frequency(text):\n",
        "    words = text.split()\n",
        "    frequency = {}\n",
        "    for word in words:\n",
        "        if word in frequency:\n",
        "            frequency[word] += 1\n",
        "        else:\n",
        "            frequency[word] = 1\n",
        "    return frequency\n",
        "\n",
        "def most_common_words(text, n):\n",
        "    frequency = word_frequency(text)\n",
        "    sorted_frequency = sorted(frequency.items(), key=lambda x: x[1], reverse=True)\n",
        "    return sorted_frequency[:n]\n",
        "\n",
        "def main():\n",
        "    file_name = '/content/demo text.txt'\n",
        "    with open(file_name, 'r') as file:\n",
        "        text = file.read()\n",
        "\n",
        "    word_number = count_words(text)\n",
        "    paragraph_number = count_paragraphs(text)\n",
        "    sentence_number = count_sentences(text)\n",
        "    average_word_length = calculate_average_word_length(text)\n",
        "    most_common = most_common_words(text, 5)\n",
        "\n",
        "    print('Number of words: ', word_number)\n",
        "    print('Number of sentences: ', sentence_number)\n",
        "    print('Number of paragraphs: ', paragraph_number)\n",
        "    print(\"Average word length: %.2f\" % (average_word_length))\n",
        "    print('Most common words:')\n",
        "    for word, frequency in most_common:\n",
        "        print(f\"  '{word}' --> {frequency} times in text\")\n",
        "\n",
        "if __name__ == \"__main__\":\n",
        "    main()"
      ]
    },
    {
      "cell_type": "markdown",
      "source": [
        "Hangman Game: Create a Python program that allows a user to play the game of Hangman. The program should randomly select a word from a predefined list, and the player must guess letters one at a time until they guess the word correctly or run out of attempts."
      ],
      "metadata": {
        "id": "EpkezPGO6JIV"
      }
    },
    {
      "cell_type": "code",
      "source": [
        "import random\n",
        "\n",
        "def hangman():\n",
        "    words = [\"apple\", \"banana\", \"grape\", \"orange\", \"peach\"] # list of words\n",
        "    word = random.choice(words)                             # random selection\n",
        "\n",
        "    guessed_word = ['_'] * len(word) # display with underscore and a function that returns the length of the selected word\n",
        "\n",
        "    attempts = 6\n",
        "\n",
        "    print(\"Welcome to Hangman!\")\n",
        "    print(\"Try to guess the word:\", \" \".join(guessed_word)) #.join concatenates elements of a list into a string\n",
        "\n",
        "\n",
        "    while attempts > 0 and '_' in guessed_word: # and there are letters not guessed yet\n",
        "        guess = input(\"Guess a letter: \").lower()\n",
        "\n",
        "        if len(guess) == 1 and guess.isalpha(): # checks if the input is a single letter\n",
        "            if guess in word:\n",
        "                for i in range(len(word)): # correct guess: update guessed_word\n",
        "                    if word[i] == guess:\n",
        "                        guessed_word[i] = guess\n",
        "                print(\"Good guess:\", \" \".join(guessed_word))\n",
        "            else:\n",
        "                attempts -= 1  # incorrect guess\n",
        "                print(f\"Wrong guess! You have {attempts} attempts left.\")\n",
        "        else:\n",
        "            print(\"Invalid input. Please enter a single letter.\")\n",
        "\n",
        "    if '_' not in guessed_word:\n",
        "        print(\"Congratulations! You guessed the word:\", word)\n",
        "    else:\n",
        "        print(f\"Sorry, you're out of attempts. The word was: {word}\")\n",
        "\n",
        "hangman()"
      ],
      "metadata": {
        "id": "8GA5hCJx6OKt",
        "colab": {
          "base_uri": "https://localhost:8080/"
        },
        "outputId": "cab6c7cb-f751-4054-d65c-534e64ccbdef"
      },
      "execution_count": null,
      "outputs": [
        {
          "output_type": "stream",
          "name": "stdout",
          "text": [
            "Welcome to Hangman!\n",
            "Try to guess the word: _ _ _ _ _\n",
            "Guess a letter: b\n",
            "Wrong guess! You have 5 attempts left.\n",
            "Guess a letter: a\n",
            "Good guess: _ _ a _ _\n",
            "Guess a letter: g\n",
            "Wrong guess! You have 4 attempts left.\n",
            "Guess a letter: e\n",
            "Good guess: _ e a _ _\n",
            "Guess a letter: p\n",
            "Good guess: p e a _ _\n",
            "Guess a letter: c\n",
            "Good guess: p e a c _\n",
            "Guess a letter: h\n",
            "Good guess: p e a c h\n",
            "Congratulations! You guessed the word: peach\n"
          ]
        }
      ]
    },
    {
      "cell_type": "markdown",
      "source": [
        "Number Guessing Game: Create a program that generates a random number between 1 and 100, and then asks the user to guess the number. The program should provide hints to the user if the guessed number is greater or less than the target number, and keep asking for a new guess until the user guesses correctly."
      ],
      "metadata": {
        "id": "IkPtqwsC6PzE"
      }
    },
    {
      "cell_type": "code",
      "source": [
        "import random\n",
        "\n",
        "def number_guessing_game():\n",
        "    target_number = random.randint(1, 100)\n",
        "    guess = None\n",
        "\n",
        "    print(\"Welcome to the Number Guessing Game!\")\n",
        "    print(\"I'm thinking of a number between 1 and 100.\")\n",
        "\n",
        "    while guess != target_number:\n",
        "        guess = int(input(\"Enter your guess: \"))\n",
        "        if guess < target_number:\n",
        "            print(\"Too low! Try again.\")\n",
        "        elif guess > target_number:\n",
        "            print(\"Too high! Try again.\")\n",
        "        else:\n",
        "            print(\"Congratulations! You've guessed the number correctly.\")\n",
        "\n",
        "number_guessing_game()"
      ],
      "metadata": {
        "id": "yJ1390Vr6WwR",
        "colab": {
          "base_uri": "https://localhost:8080/"
        },
        "outputId": "125b40ae-d7ce-4186-b96a-448a9ad848ea"
      },
      "execution_count": null,
      "outputs": [
        {
          "output_type": "stream",
          "name": "stdout",
          "text": [
            "Welcome to the Number Guessing Game!\n",
            "I'm thinking of a number between 1 and 100.\n",
            "Enter your guess: 95\n",
            "Too high! Try again.\n",
            "Enter your guess: 3\n",
            "Too low! Try again.\n",
            "Enter your guess: 7\n",
            "Too low! Try again.\n",
            "Enter your guess: 25\n",
            "Too high! Try again.\n",
            "Enter your guess: 18\n",
            "Too high! Try again.\n",
            "Enter your guess: 15\n",
            "Too high! Try again.\n",
            "Enter your guess: 10\n",
            "Too low! Try again.\n",
            "Enter your guess: 12\n",
            "Too high! Try again.\n",
            "Enter your guess: 11\n",
            "Congratulations! You've guessed the number correctly.\n"
          ]
        }
      ]
    }
  ]
}